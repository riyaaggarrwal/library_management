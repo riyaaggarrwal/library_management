{
  "nbformat": 4,
  "nbformat_minor": 0,
  "metadata": {
    "colab": {
      "provenance": []
    },
    "kernelspec": {
      "name": "python3",
      "display_name": "Python 3"
    },
    "language_info": {
      "name": "python"
    }
  },
  "cells": [
    {
      "cell_type": "code",
      "execution_count": 1,
      "metadata": {
        "colab": {
          "base_uri": "https://localhost:8080/"
        },
        "id": "ZbRt6H2QOw9q",
        "outputId": "edc4f27d-cfc0-4e16-8dfa-850bbaedabff"
      },
      "outputs": [
        {
          "output_type": "stream",
          "name": "stdout",
          "text": [
            "'The Great Gatsby' added to the library.\n",
            "'1984' added to the library.\n",
            "Available books:\n",
            "'The Great Gatsby' (ID: 101)\n",
            "'1984' (ID: 102)\n",
            "Member Alice borrowed 'The Great Gatsby'.\n",
            "Available books:\n",
            "'1984' (ID: 102)\n",
            "Member Alice returned 'The Great Gatsby'.\n",
            "Available books:\n",
            "'The Great Gatsby' (ID: 101)\n",
            "'1984' (ID: 102)\n"
          ]
        }
      ],
      "source": [
        "# Base class: User\n",
        "class User:\n",
        "    def __init__(self, user_id, name):\n",
        "        self.user_id = user_id\n",
        "        self.name = name\n",
        "\n",
        "# Subclass: Member (inherits from User)\n",
        "class Member(User):\n",
        "    def __init__(self, user_id, name):\n",
        "        super().__init__(user_id, name)\n",
        "        self.borrowed_books = []\n",
        "\n",
        "    def borrow_book(self, book):\n",
        "        if book.is_available:\n",
        "            self.borrowed_books.append(book)\n",
        "            book.is_available = False\n",
        "            print(f\"{self.name} borrowed '{book.title}'.\")\n",
        "        else:\n",
        "            print(f\"Sorry, '{book.title}' is not available.\")\n",
        "\n",
        "    def return_book(self, book):\n",
        "        if book in self.borrowed_books:\n",
        "            self.borrowed_books.remove(book)\n",
        "            book.is_available = True\n",
        "            print(f\"{self.name} returned '{book.title}'.\")\n",
        "        else:\n",
        "            print(f\"{self.name} does not have '{book.title}'.\")\n",
        "\n",
        "# Subclass: Admin (inherits from User)\n",
        "class Admin(User):\n",
        "    def __init__(self, user_id, name):\n",
        "        super().__init__(user_id, name)\n",
        "\n",
        "    def add_book(self, library, book):\n",
        "        library.books.append(book)\n",
        "        print(f\"'{book.title}' added to the library.\")\n",
        "\n",
        "    def remove_book(self, library, book):\n",
        "        if book in library.books:\n",
        "            library.books.remove(book)\n",
        "            print(f\"'{book.title}' removed from the library.\")\n",
        "        else:\n",
        "            print(f\"'{book.title}' is not in the library.\")\n",
        "\n",
        "# Class: Book\n",
        "class Book:\n",
        "    def __init__(self, book_id, title):\n",
        "        self.book_id = book_id\n",
        "        self.title = title\n",
        "        self.is_available = True\n",
        "\n",
        "# Class: Library\n",
        "class Library:\n",
        "    def __init__(self):\n",
        "        self.books = []\n",
        "\n",
        "    def show_available_books(self):\n",
        "        print(\"Available books:\")\n",
        "        for book in self.books:\n",
        "            if book.is_available:\n",
        "                print(f\"'{book.title}' (ID: {book.book_id})\")\n",
        "\n",
        "# Example usage\n",
        "if __name__ == \"__main__\":\n",
        "    library = Library()\n",
        "\n",
        "    # Admin adds books\n",
        "    admin = Admin(1, \"Admin John\")\n",
        "    book1 = Book(101, \"The Great Gatsby\")\n",
        "    book2 = Book(102, \"1984\")\n",
        "    admin.add_book(library, book1)\n",
        "    admin.add_book(library, book2)\n",
        "\n",
        "    # Show available books\n",
        "    library.show_available_books()\n",
        "\n",
        "    # Member borrows a book\n",
        "    member = Member(2, \"Member Alice\")\n",
        "    member.borrow_book(book1)\n",
        "\n",
        "    # Show available books after borrowing\n",
        "    library.show_available_books()\n",
        "\n",
        "    # Member returns a book\n",
        "    member.return_book(book1)\n",
        "\n",
        "    # Show available books after returning\n",
        "    library.show_available_books()\n"
      ]
    }
  ]
}